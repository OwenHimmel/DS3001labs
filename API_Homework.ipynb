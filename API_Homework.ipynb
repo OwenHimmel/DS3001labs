{
  "nbformat": 4,
  "nbformat_minor": 0,
  "metadata": {
    "colab": {
      "provenance": [],
      "authorship_tag": "ABX9TyN4Tny04dLSBDwDReg4+e5C"
    },
    "kernelspec": {
      "name": "python3",
      "display_name": "Python 3"
    },
    "language_info": {
      "name": "python"
    }
  },
  "cells": [
    {
      "cell_type": "code",
      "source": [
        "import json\n",
        "import pandas as pd\n",
        "import json\n",
        "import requests"
      ],
      "metadata": {
        "id": "6ljTfR_qae6t"
      },
      "execution_count": 1,
      "outputs": []
    },
    {
      "cell_type": "code",
      "execution_count": 9,
      "metadata": {
        "colab": {
          "base_uri": "https://localhost:8080/"
        },
        "id": "unuPjKbhVWut",
        "outputId": "3d2dddb3-73c7-448c-f53c-a05cf0e2150b"
      },
      "outputs": [
        {
          "name": "stdout",
          "output_type": "stream",
          "text": [
            "Enter stock ticker you want to investigate: GLD\n",
            "Enter region you want to investigate: AU\n"
          ]
        }
      ],
      "source": [
        "stock = input(\"Enter stock ticker you want to investigate: \")\n",
        "region = input(\"Enter region you want to investigate: \")\n",
        "valid_regions = [\"US\", \"AU\", \"CA\", \"FR\", \"DE\", \"HK\", \"IT\", \"ES\", \"GB\", \"IN\"]\n",
        "\n",
        "while region not in valid_regions:\n",
        "    print(\"Invalid region\")\n",
        "    region = input(\"Enter region you want to investigate: \")"
      ]
    },
    {
      "cell_type": "code",
      "source": [
        "apikey=\"a9ycWh2p84aAxtd3io5wQakwbaFdW8lLv2oOC7Dd\"\n",
        "url = \"https://yfapi.net/v6/finance/quote\"\n",
        "\n",
        "querystring = {\"symbols\":stock}\n",
        "headers = {\n",
        "    'x-api-key': apikey\n",
        "    }\n",
        "response = requests.request(\"GET\", url, headers=headers, params=querystring)\n",
        "\n",
        "if response.status_code == 200:\n",
        "    data = response.json()\n",
        "    if 'finance' in data and 'result' in data['finance']:\n",
        "        if data['finance']['result']:\n",
        "            print(\"This is a valid stock symbol\")\n",
        "            urlb = \"https://yfapi.net/ws/insights/v1/finance/insights\"\n",
        "            querystringb = {\"symbol\":stock}\n",
        "            headers = {\n",
        "              'x-api-key': apikey\n",
        "                  }\n",
        "            responseb = requests.request(\"GET\", urlb, headers=headers, params=querystringb)\n",
        "        else:\n",
        "            print(stock+ \", this stock may be invalid or missing data.\")\n",
        "            urlb = \"https://yfapi.net/ws/insights/v1/finance/insights\"\n",
        "            querystringb = {\"symbol\":stock}\n",
        "            headers = {\n",
        "                'x-api-key': apikey\n",
        "                  }\n",
        "            responseb = requests.request(\"GET\", urlb, headers=headers, params=querystringb)\n",
        "    else:\n",
        "        print(stock + \", this stock may be missing data\")\n",
        "        urlb = \"https://yfapi.net/ws/insights/v1/finance/insights\"\n",
        "        querystringb = {\"symbol\":stock}\n",
        "        headers = {\n",
        "            'x-api-key': apikey\n",
        "                  }\n",
        "        responseb = requests.request(\"GET\", urlb, headers=headers, params=querystringb)\n",
        "else:\n",
        "    print(stock+ \" may not be a valid stock symbol\")\n",
        "\n",
        "\n",
        "\n",
        "urlc = \"https://yfapi.net/v1/finance/trending/\"+region\n",
        "headers = {\n",
        "    'x-api-key': apikey\n",
        "    }\n",
        "responsec = requests.request(\"GET\", urlc, headers=headers)\n"
      ],
      "metadata": {
        "colab": {
          "base_uri": "https://localhost:8080/"
        },
        "id": "X9GKLF97VrN_",
        "outputId": "1c1058df-3c50-423c-d5c1-fa8544b98a7c"
      },
      "execution_count": 10,
      "outputs": [
        {
          "output_type": "stream",
          "name": "stdout",
          "text": [
            "GLD, this stock may be missing data\n"
          ]
        }
      ]
    },
    {
      "cell_type": "code",
      "source": [
        "stock_json = response.json()\n",
        "stock_jsonb = responseb.json()\n",
        "region_json = responsec.json()\n",
        "\n",
        "trending_stocks = []\n",
        "num_stocks = len(region_json['finance']['result'][0]['quotes'])\n",
        "for i in range(0,num_stocks):\n",
        "    trending_stocks.append(region_json['finance']['result'][0]['quotes'][i]['symbol'])\n",
        "\n",
        "\n",
        "print(\"The stock ticker is: \"+stock)\n",
        "\n",
        "#Sometimes the display name/longname is not included in what the API gets\n",
        "stock_name = stock_json['quoteResponse']['result'][0]\n",
        "full_name = stock_name.get('longName') or stock_name.get('displayName')\n",
        "\n",
        "if full_name:\n",
        "    print(\"The full name of the stock is: \" + full_name)\n",
        "else:\n",
        "    print(\"No full name available.\")\n",
        "\n",
        "print(\"Price: $\" + str(stock_json['quoteResponse']['result'][0][\"regularMarketPrice\"])\n",
        "+ \"\\n52 week high: $\" + str(stock_json['quoteResponse']['result'][0][\"fiftyTwoWeekHigh\"])\n",
        "+ \"\\n52 week low: $\" + str(stock_json['quoteResponse']['result'][0][\"fiftyTwoWeekLow\"]))\n",
        "\n",
        "\n",
        "try:\n",
        "    target_price = stock_jsonb['finance']['result']['instrumentInfo']['recommendation']['targetPrice']\n",
        "    print(\"The target price is: $\" + str(target_price))\n",
        "except KeyError:\n",
        "    print(\"No target price available.\")\n",
        "\n",
        "print(\"\")\n",
        "print(\"Currently trending stock(s) in the \"+region+\" market are: \"+ str(trending_stocks))\n"
      ],
      "metadata": {
        "colab": {
          "base_uri": "https://localhost:8080/"
        },
        "id": "huXsFmgFaU9u",
        "outputId": "512961ac-fdd5-474a-8bb6-7ac058ab680b"
      },
      "execution_count": 15,
      "outputs": [
        {
          "output_type": "stream",
          "name": "stdout",
          "text": [
            "The stock ticker is: GLD\n",
            "The full name of the stock is: SPDR Gold Shares\n",
            "Price: $245.02\n",
            "52 week high: $247.37\n",
            "52 week low: $168.3\n",
            "No target price available.\n",
            "\n",
            "Currently trending stocks in the AU market are: ['^AORD']\n"
          ]
        }
      ]
    },
    {
      "cell_type": "code",
      "source": [
        "import pandas as pd\n",
        "\n",
        "price = stock_json['quoteResponse']['result'][0][\"regularMarketPrice\"]\n",
        "high_52_week = stock_json['quoteResponse']['result'][0][\"fiftyTwoWeekHigh\"]\n",
        "low_52_week = stock_json['quoteResponse']['result'][0][\"fiftyTwoWeekLow\"]\n",
        "\n",
        "try:\n",
        "    target_price = stock_jsonb['finance']['result']['instrumentInfo']['recommendation']['targetPrice']\n",
        "except KeyError:\n",
        "    target_price = \"No target price available\"\n",
        "\n",
        "dataframe = {\n",
        "    \"Stock Ticker\": [stock],\n",
        "    \"Full Name\": [full_name],\n",
        "    \"Price\": [price],\n",
        "    \"52 Week High\": [high_52_week],\n",
        "    \"52 Week Low\": [low_52_week],\n",
        "    \"Target Price\": [target_price],\n",
        "    \"Trending Stocks\": [', '.join(trending_stocks)]\n",
        "}\n",
        "\n",
        "df = pd.DataFrame(dataframe)\n",
        "df.to_csv(\"stock_info.csv\", index=False)\n",
        "\n"
      ],
      "metadata": {
        "id": "56k8UcCvykpp"
      },
      "execution_count": 16,
      "outputs": []
    }
  ]
}