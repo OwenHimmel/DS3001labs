{
  "nbformat": 4,
  "nbformat_minor": 0,
  "metadata": {
    "colab": {
      "provenance": [],
      "authorship_tag": "ABX9TyPAAJjE+h97LgALUs7R+Jer",
      "include_colab_link": true
    },
    "kernelspec": {
      "name": "python3",
      "display_name": "Python 3"
    },
    "language_info": {
      "name": "python"
    }
  },
  "cells": [
    {
      "cell_type": "markdown",
      "metadata": {
        "id": "view-in-github",
        "colab_type": "text"
      },
      "source": [
        "<a href=\"https://colab.research.google.com/github/OwenHimmel/DS3001labs/blob/main/API_Homework.ipynb\" target=\"_parent\"><img src=\"https://colab.research.google.com/assets/colab-badge.svg\" alt=\"Open In Colab\"/></a>"
      ]
    },
    {
      "cell_type": "code",
      "source": [
        "import json\n",
        "import pandas as pd\n",
        "import json\n",
        "import requests"
      ],
      "metadata": {
        "id": "6ljTfR_qae6t"
      },
      "execution_count": 3,
      "outputs": []
    },
    {
      "cell_type": "code",
      "execution_count": 4,
      "metadata": {
        "colab": {
          "base_uri": "https://localhost:8080/"
        },
        "id": "unuPjKbhVWut",
        "outputId": "e8ca915c-8db3-4a1b-b65a-01ca4db57d40"
      },
      "outputs": [
        {
          "name": "stdout",
          "output_type": "stream",
          "text": [
            "Enter stock ticker you want to investigate: VITL\n",
            "Enter region you want to investigate: US\n"
          ]
        }
      ],
      "source": [
        "stock = input(\"Enter stock ticker you want to investigate: \")\n",
        "region = input(\"Enter region you want to investigate: \")"
      ]
    },
    {
      "cell_type": "markdown",
      "source": [
        "Need to display: Ticker Name, Full Name of the Stock, Current Market Price, Target Mean Price, 52 week high and 52 week low. Also, output 5 of the current trending stock."
      ],
      "metadata": {
        "id": "EQlsjl7JV01p"
      }
    },
    {
      "cell_type": "markdown",
      "source": [
        "Ticker name, Full name, Stock price, 52 week high and low."
      ],
      "metadata": {
        "id": "Z-c3LP60V-TF"
      }
    },
    {
      "cell_type": "code",
      "source": [
        "apikey=\"\"\n",
        "\n",
        "url = \"https://yfapi.net/v6/finance/quote\"\n",
        "\n",
        "querystring = {\"symbols\":stock}\n",
        "\n",
        "headers = {\n",
        "    'x-api-key': apikey\n",
        "    }\n",
        "\n",
        "response = requests.request(\"GET\", url, headers=headers, params=querystring)\n",
        "\n",
        "print(response.text)"
      ],
      "metadata": {
        "colab": {
          "base_uri": "https://localhost:8080/"
        },
        "id": "X9GKLF97VrN_",
        "outputId": "c0941674-2a54-4ffe-b7c9-3920dd38360c"
      },
      "execution_count": 5,
      "outputs": [
        {
          "output_type": "stream",
          "name": "stdout",
          "text": [
            "{\"quoteResponse\":{\"result\":[{\"language\":\"en-US\",\"region\":\"US\",\"quoteType\":\"EQUITY\",\"typeDisp\":\"Equity\",\"quoteSourceName\":\"Nasdaq Real Time Price\",\"triggerable\":true,\"customPriceAlertConfidence\":\"HIGH\",\"currency\":\"USD\",\"regularMarketChange\":-0.38000107,\"regularMarketTime\":1727372176,\"regularMarketDayHigh\":36.67,\"regularMarketDayRange\":\"34.95 - 36.67\",\"regularMarketDayLow\":34.95,\"regularMarketVolume\":629670,\"regularMarketPreviousClose\":35.73,\"bid\":35.24,\"ask\":35.41,\"bidSize\":3,\"askSize\":3,\"fullExchangeName\":\"NasdaqGM\",\"financialCurrency\":\"USD\",\"regularMarketOpen\":35.95,\"averageDailyVolume3Month\":964238,\"averageDailyVolume10Day\":975170,\"fiftyTwoWeekLowChange\":24.939999,\"fiftyTwoWeekLowChangePercent\":2.3957732,\"fiftyTwoWeekRange\":\"10.41 - 48.41\",\"fiftyTwoWeekHighChange\":-13.060001,\"fiftyTwoWeekHighChangePercent\":-0.269779,\"fiftyTwoWeekLow\":10.41,\"fiftyTwoWeekHigh\":48.41,\"fiftyTwoWeekChangePercent\":204.34413,\"earningsTimestamp\":1723116000,\"earningsTimestampStart\":1730377800,\"earningsTimestampEnd\":1730723400,\"earningsCallTimestampStart\":1723120200,\"earningsCallTimestampEnd\":1723120200,\"isEarningsDateEstimate\":true,\"trailingAnnualDividendRate\":0.0,\"trailingPE\":33.349056,\"trailingAnnualDividendYield\":0.0,\"epsTrailingTwelveMonths\":1.06,\"epsForward\":1.21,\"epsCurrentYear\":1.09,\"priceEpsCurrentYear\":32.43119,\"sharesOutstanding\":43098900,\"bookValue\":5.548,\"fiftyDayAverage\":33.392,\"fiftyDayAverageChange\":1.9580002,\"fiftyDayAverageChangePercent\":0.058636807,\"twoHundredDayAverage\":28.09905,\"twoHundredDayAverageChange\":7.250948,\"marketCap\":1523546112,\"marketState\":\"REGULAR\",\"regularMarketChangePercent\":-1.0635351,\"regularMarketPrice\":35.35,\"hasPrePostMarketData\":true,\"firstTradeDateMilliseconds\":1596202200000,\"priceHint\":2,\"twoHundredDayAverageChangePercent\":0.25804958,\"forwardPE\":29.214874,\"priceToBook\":6.3716655,\"sourceInterval\":15,\"exchangeDataDelayedBy\":0,\"averageAnalystRating\":\"2.0 - Buy\",\"tradeable\":false,\"cryptoTradeable\":false,\"exchange\":\"NGM\",\"shortName\":\"Vital Farms, Inc.\",\"longName\":\"Vital Farms, Inc.\",\"messageBoardId\":\"finmb_231730321\",\"exchangeTimezoneName\":\"America/New_York\",\"exchangeTimezoneShortName\":\"EDT\",\"gmtOffSetMilliseconds\":-14400000,\"market\":\"us_market\",\"esgPopulated\":false,\"displayName\":\"Vital Farms\",\"symbol\":\"VITL\"}],\"error\":null}}\n"
          ]
        }
      ]
    },
    {
      "cell_type": "code",
      "source": [
        "stock_json = response.json()\n",
        "print(\"The stock ticker is: \"+stock + \"\\n The full name of the stock is: \"\n",
        "      + stock_json['quoteResponse']['result'][0][\"longName\"] + \" Price:$\" + str(stock_json['quoteResponse']['result'][0][\"regularMarketPrice\"])+\n",
        "  \" \\n\" +\n",
        "  stock_json['quoteResponse']['result'][0][\"longName\"] + \" Price:$\" + str(stock_json['quoteResponse']['result'][0][\"regularMarketPrice\"]))\n"
      ],
      "metadata": {
        "colab": {
          "base_uri": "https://localhost:8080/"
        },
        "id": "huXsFmgFaU9u",
        "outputId": "218e309c-ec86-438c-d241-6f3d9cf7706c"
      },
      "execution_count": 11,
      "outputs": [
        {
          "output_type": "stream",
          "name": "stdout",
          "text": [
            "The stock ticker is: VITL\n",
            " The full name of the stock is: Vital Farms, Inc. Price:$35.35 \n",
            "Vital Farms, Inc. Price:$35.35\n"
          ]
        }
      ]
    },
    {
      "cell_type": "markdown",
      "source": [
        "Target Price"
      ],
      "metadata": {
        "id": "98A7Ef3FZ8_b"
      }
    },
    {
      "cell_type": "code",
      "source": [
        "apikey=\"\"\n",
        "\n",
        "url = \"https://yfapi.net/v1/finance/insights\"\n",
        "\n",
        "querystring = {\"symbols\":stock}\n",
        "\n",
        "headers = {\n",
        "    'x-api-key': apikey\n",
        "    }\n",
        "\n",
        "response = requests.request(\"GET\", url, headers=headers, params=querystring)\n",
        "\n",
        "print(response.text)"
      ],
      "metadata": {
        "id": "WITc93DKZ8FZ"
      },
      "execution_count": null,
      "outputs": []
    },
    {
      "cell_type": "markdown",
      "source": [
        "The current top 5 trending stocks."
      ],
      "metadata": {
        "id": "w4k86RLjWGy1"
      }
    },
    {
      "cell_type": "code",
      "source": [
        "url = \"https://yfapi.net/v1/trending/\"\n",
        "\n",
        "querystring = {\"symbols\":region}\n",
        "\n",
        "headers = {\n",
        "    'x-api-key': apikey\n",
        "    }\n",
        "\n",
        "response = requests.request(\"GET\", url, headers=headers, params=querystring)\n",
        "\n",
        "print(response.text)"
      ],
      "metadata": {
        "id": "-XbFl0gLWlBG"
      },
      "execution_count": null,
      "outputs": []
    }
  ]
}