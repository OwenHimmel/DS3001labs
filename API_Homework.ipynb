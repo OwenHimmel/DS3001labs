{
  "nbformat": 4,
  "nbformat_minor": 0,
  "metadata": {
    "colab": {
      "provenance": [],
      "authorship_tag": "ABX9TyPSBKa+DkOak23bLHfzIJtX",
      "include_colab_link": true
    },
    "kernelspec": {
      "name": "python3",
      "display_name": "Python 3"
    },
    "language_info": {
      "name": "python"
    }
  },
  "cells": [
    {
      "cell_type": "markdown",
      "metadata": {
        "id": "view-in-github",
        "colab_type": "text"
      },
      "source": [
        "<a href=\"https://colab.research.google.com/github/OwenHimmel/DS3001labs/blob/main/API_Homework.ipynb\" target=\"_parent\"><img src=\"https://colab.research.google.com/assets/colab-badge.svg\" alt=\"Open In Colab\"/></a>"
      ]
    },
    {
      "cell_type": "code",
      "source": [
        "import json\n",
        "import pandas as pd\n",
        "import json\n",
        "import requests"
      ],
      "metadata": {
        "id": "6ljTfR_qae6t"
      },
      "execution_count": 90,
      "outputs": []
    },
    {
      "cell_type": "code",
      "execution_count": null,
      "metadata": {
        "id": "unuPjKbhVWut"
      },
      "outputs": [],
      "source": [
        "stock = input(\"Enter stock ticker you want to investigate: \")\n",
        "region = input(\"Enter region you want to investigate: \")\n",
        "valid_regions = [\"US\", \"AU\", \"CA\", \"FR\", \"DE\", \"HK\", \"IT\", \"ES\", \"GB\", \"IN\"]\n",
        "\n",
        "while region not in valid_regions:\n",
        "    print(\"Invalid region\")\n",
        "    region = input(\"Enter region you want to investigate: \")"
      ]
    },
    {
      "cell_type": "code",
      "source": [
        "apikey=\"\"\n",
        "url = \"https://yfapi.net/v6/finance/quote\"\n",
        "\n",
        "querystring = {\"symbols\":stock}\n",
        "headers = {\n",
        "    'x-api-key': apikey\n",
        "    }\n",
        "response = requests.request(\"GET\", url, headers=headers, params=querystring)\n",
        "\n",
        "if response.status_code == 200:\n",
        "    data = response.json()\n",
        "    if 'finance' in data and 'result' in data['finance']:\n",
        "        if data['finance']['result']:\n",
        "            print(\"This is a valid stock symbol\")\n",
        "            urlb = \"https://yfapi.net/ws/insights/v1/finance/insights\"\n",
        "            querystringb = {\"symbol\":stock}\n",
        "            headers = {\n",
        "              'x-api-key': apikey\n",
        "                  }\n",
        "            responseb = requests.request(\"GET\", urlb, headers=headers, params=querystringb)\n",
        "        else:\n",
        "            print(stock+ \", this stock may be invalid or missing data.\")\n",
        "    else:\n",
        "        print(stock + \", this stock may be missing data\")\n",
        "else:\n",
        "    print(stock+ \" may not be a valid stock symbol\")\n",
        "\n",
        "\n",
        "urlc = \"https://yfapi.net/v1/finance/trending/\"+region\n",
        "headers = {\n",
        "    'x-api-key': apikey\n",
        "    }\n",
        "responsec = requests.request(\"GET\", urlc, headers=headers)\n"
      ],
      "metadata": {
        "id": "X9GKLF97VrN_"
      },
      "execution_count": null,
      "outputs": []
    },
    {
      "cell_type": "code",
      "source": [
        "stock_json = response.json()\n",
        "stock_jsonb = responseb.json()\n",
        "region_json = responsec.json()\n",
        "\n",
        "trending_stocks = []\n",
        "for i in range(5):\n",
        "    trending_stocks.append(region_json['finance']['result'][0]['quotes'][i]['symbol'])\n",
        "\n",
        "\n",
        "print(\"The stock ticker is: \"+stock)\n",
        "\n",
        "#Sometimes the display name/longname is not included in what the API gets\n",
        "stock_name = stock_json['quoteResponse']['result'][0]\n",
        "full_name = stock_name.get('longName') or stock_name.get('displayName')\n",
        "\n",
        "if full_name:\n",
        "    print(\"The full name of the stock is: \" + full_name)\n",
        "else:\n",
        "    print(\"No full name available.\")\n",
        "\n",
        "print(\"Price: $\" + str(stock_json['quoteResponse']['result'][0][\"regularMarketPrice\"])\n",
        "+ \"\\n52 week high: $\" + str(stock_json['quoteResponse']['result'][0][\"fiftyTwoWeekHigh\"])\n",
        "+ \"\\n52 week low: $\" + str(stock_json['quoteResponse']['result'][0][\"fiftyTwoWeekLow\"]))\n",
        "\n",
        "\n",
        "try:\n",
        "    target_price = stock_jsonb['finance']['result']['instrumentInfo']['recommendation']['targetPrice']\n",
        "    print(\"The target price is: $\" + str(target_price))\n",
        "except KeyError:\n",
        "    print(\"No target price available.\")\n",
        "\n",
        "print(\"\")\n",
        "print(\"Five currently trending stocks in the \"+region+\" market are: \"+ str(trending_stocks))\n"
      ],
      "metadata": {
        "id": "huXsFmgFaU9u"
      },
      "execution_count": null,
      "outputs": []
    }
  ]
}