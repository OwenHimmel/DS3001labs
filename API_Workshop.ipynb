{
  "cells": [
    {
      "cell_type": "markdown",
      "metadata": {
        "id": "view-in-github",
        "colab_type": "text"
      },
      "source": [
        "<a href=\"https://colab.research.google.com/github/OwenHimmel/DS3001labs/blob/main/API_Workshop.ipynb\" target=\"_parent\"><img src=\"https://colab.research.google.com/assets/colab-badge.svg\" alt=\"Open In Colab\"/></a>"
      ]
    },
    {
      "cell_type": "markdown",
      "metadata": {
        "id": "YHwTFoDB04MH"
      },
      "source": [
        "# Using API Calls in Python with JSON and DataFrames - University Data Example\n",
        "In this notebook, we will make API requests to the Hipolabs Universities API, parse the JSON response, and convert it into Pandas DataFrames for analysis and visualization."
      ],
      "id": "YHwTFoDB04MH"
    },
    {
      "cell_type": "code",
      "source": [
        "from google.colab import drive\n",
        "drive.mount('/content/drive')"
      ],
      "metadata": {
        "colab": {
          "base_uri": "https://localhost:8080/"
        },
        "id": "eEAt78n4Lnp4",
        "outputId": "3b45a574-de20-48e7-f1f7-d02ed9477e9c"
      },
      "id": "eEAt78n4Lnp4",
      "execution_count": 1,
      "outputs": [
        {
          "output_type": "stream",
          "name": "stdout",
          "text": [
            "Mounted at /content/drive\n"
          ]
        }
      ]
    },
    {
      "cell_type": "markdown",
      "metadata": {
        "id": "CDPNEdDF04MJ"
      },
      "source": [
        "### Step 1: Making the API Call to Fetch University Data"
      ],
      "id": "CDPNEdDF04MJ"
    },
    {
      "cell_type": "code",
      "execution_count": 2,
      "metadata": {
        "id": "pY6qqMVA04MJ",
        "colab": {
          "base_uri": "https://localhost:8080/"
        },
        "outputId": "e26309fe-64e1-42d1-a01e-13f057421561"
      },
      "outputs": [
        {
          "output_type": "stream",
          "name": "stdout",
          "text": [
            "API request successful!\n"
          ]
        }
      ],
      "source": [
        "import requests\n",
        "import json\n",
        "import pandas as pd\n",
        "\n",
        "# API endpoint for fetching universities\n",
        "url = \"http://universities.hipolabs.com/search?country=United%20States\"\n",
        "\n",
        "# Make the GET request\n",
        "response = requests.get(url)\n",
        "\n",
        "# Check the status code\n",
        "if response.status_code == 200:\n",
        "    print(\"API request successful!\")\n",
        "else:\n",
        "    print(f\"Failed to retrieve data: {response.status_code}\")"
      ],
      "id": "pY6qqMVA04MJ"
    },
    {
      "cell_type": "markdown",
      "metadata": {
        "id": "N7564Ydt04MK"
      },
      "source": [
        "### Step 2: Parsing the JSON Response"
      ],
      "id": "N7564Ydt04MK"
    },
    {
      "cell_type": "code",
      "execution_count": 3,
      "metadata": {
        "id": "VnNhC0LN04MK",
        "colab": {
          "base_uri": "https://localhost:8080/"
        },
        "outputId": "14436472-a179-4251-9188-7e5ae7275e09"
      },
      "outputs": [
        {
          "output_type": "stream",
          "name": "stdout",
          "text": [
            "{\n",
            "  \"domains\": [\n",
            "    \"marywood.edu\"\n",
            "  ],\n",
            "  \"alpha_two_code\": \"US\",\n",
            "  \"web_pages\": [\n",
            "    \"http://www.marywood.edu\"\n",
            "  ],\n",
            "  \"name\": \"Marywood University\",\n",
            "  \"state-province\": null,\n",
            "  \"country\": \"United States\"\n",
            "}\n"
          ]
        }
      ],
      "source": [
        "# Parse the JSON response\n",
        "university_data = response.json()\n",
        "\n",
        "# Pretty-print the first university\n",
        "print(json.dumps(university_data[0], indent=2))"
      ],
      "id": "VnNhC0LN04MK"
    },
    {
      "cell_type": "markdown",
      "metadata": {
        "id": "LpvYuFhm04MK"
      },
      "source": [
        "### Step 3: Converting the JSON Data to a DataFrame"
      ],
      "id": "LpvYuFhm04MK"
    },
    {
      "cell_type": "code",
      "execution_count": null,
      "metadata": {
        "id": "6TXNwd7L04MK"
      },
      "outputs": [],
      "source": [
        "# Convert JSON data to a DataFrame\n",
        "df = pd.DataFrame(university_data)\n",
        "\n",
        "# Display the first few rows of the DataFrame\n",
        "print(df.head())\n",
        "df"
      ],
      "id": "6TXNwd7L04MK"
    },
    {
      "cell_type": "markdown",
      "metadata": {
        "id": "u_DHkVg004ML"
      },
      "source": [
        "### Step 4: Basic Data Analysis"
      ],
      "id": "u_DHkVg004ML"
    },
    {
      "cell_type": "code",
      "execution_count": null,
      "metadata": {
        "id": "ovs5UIKs04ML"
      },
      "outputs": [],
      "source": [
        "# Count the number of universities by state\n",
        "state_counts = df['state-province'].value_counts()\n",
        "print(state_counts)"
      ],
      "id": "ovs5UIKs04ML"
    },
    {
      "cell_type": "markdown",
      "metadata": {
        "id": "cAPYEMN304ML"
      },
      "source": [
        "### Step 5: Data Visualization"
      ],
      "id": "cAPYEMN304ML"
    },
    {
      "cell_type": "code",
      "execution_count": null,
      "metadata": {
        "id": "g7yUOl-804ML"
      },
      "outputs": [],
      "source": [
        "import matplotlib.pyplot as plt\n",
        "\n",
        "# Plot the number of universities per state\n",
        "state_counts.plot(kind='bar', figsize=(10, 6))\n",
        "plt.title(\"Number of Universities per State\")\n",
        "plt.xlabel(\"State\")\n",
        "plt.ylabel(\"Number of Universities\")\n",
        "plt.show()"
      ],
      "id": "g7yUOl-804ML"
    },
    {
      "cell_type": "markdown",
      "metadata": {
        "id": "WhSWvUWS04ML"
      },
      "source": [
        "### Step 6: Extending to Multiple Countries"
      ],
      "id": "WhSWvUWS04ML"
    },
    {
      "cell_type": "code",
      "execution_count": null,
      "metadata": {
        "id": "ctTMYEJp04ML"
      },
      "outputs": [],
      "source": [
        "countries = [\"United States\", \"Canada\", \"Australia\", \"United Kingdom\"]\n",
        "university_list = []\n",
        "\n",
        "for country in countries:\n",
        "    response = requests.get(f\"http://universities.hipolabs.com/search?country={country}\")\n",
        "    data = response.json()\n",
        "\n",
        "    for uni in data:\n",
        "        uni['country'] = country\n",
        "        university_list.append(uni)\n",
        "\n",
        "# Convert to DataFrame\n",
        "df_universities = pd.DataFrame(university_list)\n",
        "\n",
        "# Display the first few rows\n",
        "print(df_universities.head())"
      ],
      "id": "ctTMYEJp04ML"
    },
    {
      "cell_type": "markdown",
      "metadata": {
        "id": "PIgW1_1p04ML"
      },
      "source": [
        "### Step 7: Visualizing University Counts by Country"
      ],
      "id": "PIgW1_1p04ML"
    },
    {
      "cell_type": "code",
      "execution_count": null,
      "metadata": {
        "id": "TLQPcYvY04ML"
      },
      "outputs": [],
      "source": [
        "# Count the number of universities per country\n",
        "country_counts = df_universities['country'].value_counts()\n",
        "\n",
        "# Plot the data\n",
        "country_counts.plot(kind='bar', figsize=(10, 6))\n",
        "plt.title(\"Number of Universities per Country\")\n",
        "plt.xlabel(\"Country\")\n",
        "plt.ylabel(\"Number of Universities\")\n",
        "plt.show()"
      ],
      "id": "TLQPcYvY04ML"
    },
    {
      "cell_type": "markdown",
      "source": [
        "###Step 8: Customizing the Workshop\n",
        "\n",
        "You can experiment further by:\n",
        "\n",
        "\n",
        "\n",
        "*   Fetching data for specific regions.\n",
        "*   Analyzing other attributes such as university domains.\n",
        "*   Creating visualizations to compare universities in different regions.\n",
        "\n"
      ],
      "metadata": {
        "id": "b-dBnRNT1MQF"
      },
      "id": "b-dBnRNT1MQF"
    },
    {
      "cell_type": "markdown",
      "source": [
        "For the followig you will need to get your API key from  https://financeapi.net/\n",
        "Examine the demo page and sample data to be returned"
      ],
      "metadata": {
        "id": "iwD_LJNy2L7u"
      },
      "id": "iwD_LJNy2L7u"
    },
    {
      "cell_type": "code",
      "source": [
        "import json\n",
        "import pandas as pd\n",
        "import json\n",
        "import requests"
      ],
      "metadata": {
        "id": "80xOdsHQ2SzU"
      },
      "id": "80xOdsHQ2SzU",
      "execution_count": 4,
      "outputs": []
    },
    {
      "cell_type": "code",
      "source": [
        "#get stock from the user\n",
        "stock=input()"
      ],
      "metadata": {
        "id": "qdoW9lbM2Wes",
        "colab": {
          "base_uri": "https://localhost:8080/"
        },
        "outputId": "757841d4-b94e-49d3-cf77-24cd739c3d3e"
      },
      "id": "qdoW9lbM2Wes",
      "execution_count": 5,
      "outputs": [
        {
          "name": "stdout",
          "output_type": "stream",
          "text": [
            "GLD\n"
          ]
        }
      ]
    },
    {
      "cell_type": "code",
      "source": [
        "print(\"The Stock we will research is:\" + stock)"
      ],
      "metadata": {
        "id": "Jb5ddkbl2YWF",
        "colab": {
          "base_uri": "https://localhost:8080/"
        },
        "outputId": "2bce64b9-a402-4149-e658-7b24d6127802"
      },
      "id": "Jb5ddkbl2YWF",
      "execution_count": 6,
      "outputs": [
        {
          "output_type": "stream",
          "name": "stdout",
          "text": [
            "The Stock we will research is:GLD\n"
          ]
        }
      ]
    },
    {
      "cell_type": "code",
      "source": [
        "apikey=\"a9ycWh2p84aAxtd3io5wQakwbaFdW8lLv2oOC7Dd\"\n",
        "\n",
        "url = \"https://yfapi.net/v6/finance/quote\"\n",
        "\n",
        "querystring = {\"symbols\":stock}\n",
        "\n",
        "headers = {\n",
        "    'x-api-key': apikey\n",
        "    }\n",
        "\n",
        "response = requests.request(\"GET\", url, headers=headers, params=querystring)\n",
        "\n",
        "print(response.text)"
      ],
      "metadata": {
        "id": "pFKgjZlO2atU",
        "colab": {
          "base_uri": "https://localhost:8080/"
        },
        "outputId": "37665442-85ef-42f4-9593-8c082b9884ea"
      },
      "id": "pFKgjZlO2atU",
      "execution_count": 7,
      "outputs": [
        {
          "output_type": "stream",
          "name": "stdout",
          "text": [
            "{\"quoteResponse\":{\"result\":[{\"language\":\"en-US\",\"region\":\"US\",\"quoteType\":\"ETF\",\"typeDisp\":\"ETF\",\"quoteSourceName\":\"Nasdaq Real Time Price\",\"triggerable\":true,\"customPriceAlertConfidence\":\"HIGH\",\"marketState\":\"REGULAR\",\"currency\":\"USD\",\"exchange\":\"PCX\",\"shortName\":\"SPDR Gold Trust\",\"longName\":\"SPDR Gold Shares\",\"messageBoardId\":\"finmb_5600649\",\"exchangeTimezoneName\":\"America/New_York\",\"exchangeTimezoneShortName\":\"EDT\",\"gmtOffSetMilliseconds\":-14400000,\"market\":\"us_market\",\"esgPopulated\":false,\"regularMarketChangePercent\":0.35811862,\"regularMarketPrice\":246.61,\"twoHundredDayAverageChange\":35.961304,\"twoHundredDayAverageChangePercent\":0.17071696,\"netExpenseRatio\":0.4,\"marketCap\":64192581632,\"priceToBook\":1.450502,\"sourceInterval\":15,\"exchangeDataDelayedBy\":0,\"tradeable\":false,\"cryptoTradeable\":false,\"hasPrePostMarketData\":true,\"fiftyTwoWeekHighChangePercent\":-0.0011341034,\"fiftyTwoWeekLow\":168.3,\"fiftyTwoWeekHigh\":246.89,\"fiftyTwoWeekChangePercent\":41.85188,\"trailingAnnualDividendRate\":0.0,\"trailingAnnualDividendYield\":0.0,\"dividendYield\":0.0,\"ytdReturn\":21.54789,\"trailingThreeMonthReturns\":6.9271,\"trailingThreeMonthNavReturns\":6.9271,\"netAssets\":6.9692621E10,\"epsTrailingTwelveMonths\":-9.394,\"sharesOutstanding\":260300000,\"bookValue\":170.017,\"fiftyDayAverage\":230.0454,\"fiftyDayAverageChange\":16.564606,\"fiftyDayAverageChangePercent\":0.072005816,\"twoHundredDayAverage\":210.6487,\"firstTradeDateMilliseconds\":1100788200000,\"priceHint\":2,\"regularMarketChange\":0.8800049,\"regularMarketTime\":1727369617,\"regularMarketDayHigh\":246.89,\"regularMarketDayRange\":\"245.19 - 246.89\",\"regularMarketDayLow\":245.19,\"regularMarketVolume\":4492631,\"regularMarketPreviousClose\":245.73,\"bid\":246.35,\"ask\":246.36,\"bidSize\":8,\"askSize\":18,\"fullExchangeName\":\"NYSEArca\",\"financialCurrency\":\"USD\",\"regularMarketOpen\":246.44,\"averageDailyVolume3Month\":6299298,\"averageDailyVolume10Day\":7349630,\"fiftyTwoWeekLowChange\":78.31,\"fiftyTwoWeekLowChangePercent\":0.46530002,\"fiftyTwoWeekRange\":\"168.3 - 246.89\",\"fiftyTwoWeekHighChange\":-0.27999878,\"symbol\":\"GLD\"}],\"error\":null}}\n"
          ]
        }
      ]
    },
    {
      "cell_type": "code",
      "source": [
        "#print the company name and price\n",
        "stock_json = response.json()\n",
        "print(stock_json['quoteResponse']['result'][0][\"longName\"] + \" Price:$\" + str(stock_json['quoteResponse']['result'][0][\"regularMarketPrice\"]))"
      ],
      "metadata": {
        "id": "SVJqBY7y2eSs",
        "colab": {
          "base_uri": "https://localhost:8080/"
        },
        "outputId": "1965d1d9-da66-4cf6-f0fb-9dec2fae8130"
      },
      "id": "SVJqBY7y2eSs",
      "execution_count": 8,
      "outputs": [
        {
          "output_type": "stream",
          "name": "stdout",
          "text": [
            "SPDR Gold Shares Price:$246.61\n"
          ]
        }
      ]
    },
    {
      "cell_type": "code",
      "source": [
        "stocks = input(\"Enter a list of stocks separated by commas: \")\n",
        "\n",
        "print(\"The stocks we will research are:\" + stocks)"
      ],
      "metadata": {
        "colab": {
          "base_uri": "https://localhost:8080/"
        },
        "id": "1m1nyBZGQg8x",
        "outputId": "2be29448-4f11-4e88-e242-d5e75161b162"
      },
      "id": "1m1nyBZGQg8x",
      "execution_count": 14,
      "outputs": [
        {
          "output_type": "stream",
          "name": "stdout",
          "text": [
            "Enter a list of stocks separated by commas: NVDA,GLD\n",
            "The stocks we will research are:NVDA,GLD\n"
          ]
        }
      ]
    },
    {
      "cell_type": "code",
      "source": [
        "apikey=\"\"\n",
        "\n",
        "url = \"https://yfapi.net/v6/finance/quote\"\n",
        "\n",
        "querystring = {\"symbols\":stocks}\n",
        "\n",
        "headers = {\n",
        "    'x-api-key': apikey\n",
        "    }\n",
        "\n",
        "response = requests.request(\"GET\", url, headers=headers, params=querystring)\n",
        "\n",
        "print(response.text)"
      ],
      "metadata": {
        "colab": {
          "base_uri": "https://localhost:8080/"
        },
        "id": "0qk_uvsuQttU",
        "outputId": "a485ebfd-fdb3-40ce-b084-a5ab053b8286"
      },
      "id": "0qk_uvsuQttU",
      "execution_count": 15,
      "outputs": [
        {
          "output_type": "stream",
          "name": "stdout",
          "text": [
            "{\"quoteResponse\":{\"result\":[{\"language\":\"en-US\",\"region\":\"US\",\"quoteType\":\"EQUITY\",\"typeDisp\":\"Equity\",\"quoteSourceName\":\"Nasdaq Real Time Price\",\"triggerable\":true,\"customPriceAlertConfidence\":\"HIGH\",\"currency\":\"USD\",\"tradeable\":false,\"cryptoTradeable\":false,\"hasPrePostMarketData\":true,\"firstTradeDateMilliseconds\":917015400000,\"priceHint\":2,\"regularMarketChange\":-0.6100006,\"regularMarketTime\":1727370109,\"regularMarketDayHigh\":127.665,\"regularMarketDayRange\":\"122.155 - 127.665\",\"regularMarketDayLow\":122.155,\"regularMarketVolume\":197820245,\"regularMarketPreviousClose\":123.51,\"bid\":122.84,\"ask\":122.96,\"bidSize\":5,\"askSize\":5,\"fullExchangeName\":\"NasdaqGS\",\"financialCurrency\":\"USD\",\"regularMarketOpen\":126.78,\"averageDailyVolume3Month\":326186925,\"averageDailyVolume10Day\":291714920,\"fiftyTwoWeekLowChange\":83.67,\"fiftyTwoWeekLowChangePercent\":2.1328065,\"fiftyTwoWeekRange\":\"39.23 - 140.76\",\"fiftyTwoWeekHighChange\":-17.859993,\"fiftyTwoWeekHighChangePercent\":-0.1268826,\"fiftyTwoWeekLow\":39.23,\"fiftyTwoWeekHigh\":140.76,\"fiftyTwoWeekChangePercent\":186.63928,\"dividendDate\":1727913600,\"earningsTimestamp\":1724876403,\"earningsTimestampStart\":1732051200,\"earningsTimestampEnd\":1732569600,\"earningsCallTimestampStart\":1724878800,\"earningsCallTimestampEnd\":1724878800,\"isEarningsDateEstimate\":true,\"trailingAnnualDividendRate\":0.022,\"trailingPE\":57.429905,\"dividendRate\":0.04,\"trailingAnnualDividendYield\":1.7812323E-4,\"dividendYield\":0.03,\"epsTrailingTwelveMonths\":2.14,\"epsForward\":4.02,\"epsCurrentYear\":2.84,\"priceEpsCurrentYear\":43.27465,\"sharesOutstanding\":24529999872,\"bookValue\":2.368,\"fiftyDayAverage\":115.7194,\"fiftyDayAverageChange\":7.180603,\"fiftyDayAverageChangePercent\":0.06205185,\"twoHundredDayAverage\":93.57138,\"twoHundredDayAverageChange\":29.32862,\"twoHundredDayAverageChangePercent\":0.3134358,\"marketCap\":3014737002496,\"forwardPE\":30.57214,\"priceToBook\":51.900337,\"sourceInterval\":15,\"exchangeDataDelayedBy\":0,\"prevName\":\"Usual\",\"nameChangeDate\":\"2024-09-25\",\"averageAnalystRating\":\"1.7 - Buy\",\"regularMarketChangePercent\":-0.49388763,\"regularMarketPrice\":122.9,\"marketState\":\"REGULAR\",\"exchangeTimezoneName\":\"America/New_York\",\"exchangeTimezoneShortName\":\"EDT\",\"gmtOffSetMilliseconds\":-14400000,\"esgPopulated\":false,\"exchange\":\"NMS\",\"shortName\":\"NVIDIA Corporation\",\"longName\":\"NVIDIA Corporation\",\"messageBoardId\":\"finmb_32307\",\"market\":\"us_market\",\"displayName\":\"NVIDIA\",\"symbol\":\"NVDA\"},{\"language\":\"en-US\",\"region\":\"US\",\"quoteType\":\"ETF\",\"typeDisp\":\"ETF\",\"quoteSourceName\":\"Nasdaq Real Time Price\",\"triggerable\":true,\"customPriceAlertConfidence\":\"HIGH\",\"currency\":\"USD\",\"tradeable\":false,\"cryptoTradeable\":false,\"hasPrePostMarketData\":true,\"firstTradeDateMilliseconds\":1100788200000,\"priceHint\":2,\"regularMarketChange\":0.66999817,\"regularMarketTime\":1727370107,\"regularMarketDayHigh\":246.89,\"regularMarketDayRange\":\"245.19 - 246.89\",\"regularMarketDayLow\":245.19,\"regularMarketVolume\":4528062,\"regularMarketPreviousClose\":245.73,\"bid\":246.43,\"ask\":246.51,\"bidSize\":9,\"askSize\":12,\"fullExchangeName\":\"NYSEArca\",\"financialCurrency\":\"USD\",\"regularMarketOpen\":246.44,\"averageDailyVolume3Month\":6299298,\"averageDailyVolume10Day\":7349630,\"fiftyTwoWeekLowChange\":78.09999,\"fiftyTwoWeekLowChangePercent\":0.46405223,\"fiftyTwoWeekRange\":\"168.3 - 246.89\",\"fiftyTwoWeekHighChange\":-0.4900055,\"fiftyTwoWeekHighChangePercent\":-0.0019847117,\"fiftyTwoWeekLow\":168.3,\"fiftyTwoWeekHigh\":246.89,\"fiftyTwoWeekChangePercent\":41.85188,\"trailingAnnualDividendRate\":0.0,\"trailingAnnualDividendYield\":0.0,\"dividendYield\":0.0,\"ytdReturn\":21.54789,\"trailingThreeMonthReturns\":6.9271,\"trailingThreeMonthNavReturns\":6.9271,\"netAssets\":6.9692621E10,\"epsTrailingTwelveMonths\":-9.394,\"sharesOutstanding\":260300000,\"bookValue\":170.017,\"fiftyDayAverage\":230.0454,\"fiftyDayAverageChange\":16.354599,\"fiftyDayAverageChangePercent\":0.07109292,\"twoHundredDayAverage\":210.6487,\"twoHundredDayAverageChange\":35.751297,\"twoHundredDayAverageChangePercent\":0.16972,\"netExpenseRatio\":0.4,\"marketCap\":64137916416,\"priceToBook\":1.4492668,\"sourceInterval\":15,\"exchangeDataDelayedBy\":0,\"regularMarketChangePercent\":0.27265623,\"regularMarketPrice\":246.4,\"marketState\":\"REGULAR\",\"exchangeTimezoneName\":\"America/New_York\",\"exchangeTimezoneShortName\":\"EDT\",\"gmtOffSetMilliseconds\":-14400000,\"esgPopulated\":false,\"exchange\":\"PCX\",\"shortName\":\"SPDR Gold Trust\",\"longName\":\"SPDR Gold Shares\",\"messageBoardId\":\"finmb_5600649\",\"market\":\"us_market\",\"symbol\":\"GLD\"}],\"error\":null}}\n"
          ]
        }
      ]
    },
    {
      "cell_type": "code",
      "source": [
        "stock_json = response.json()\n",
        "print(stock_json['quoteResponse']['result'][0][\"longName\"] + \" Price:$\" + str(stock_json['quoteResponse']['result'][0][\"regularMarketPrice\"]))\n",
        "print(stock_json['quoteResponse']['result'][1][\"longName\"] + \" Price:$\" + str(stock_json['quoteResponse']['result'][1][\"regularMarketPrice\"]))"
      ],
      "metadata": {
        "colab": {
          "base_uri": "https://localhost:8080/"
        },
        "id": "mx9T2aZmQypL",
        "outputId": "271ff706-6e7d-447e-c44c-17e147597cb4"
      },
      "id": "mx9T2aZmQypL",
      "execution_count": 17,
      "outputs": [
        {
          "output_type": "stream",
          "name": "stdout",
          "text": [
            "NVIDIA Corporation Price:$122.9\n",
            "SPDR Gold Shares Price:$246.4\n"
          ]
        }
      ]
    },
    {
      "cell_type": "markdown",
      "source": [
        "Ask the user for a list of stocks and pass that answer back to the user\n"
      ],
      "metadata": {
        "id": "9sqZZPI12leh"
      },
      "id": "9sqZZPI12leh"
    }
  ],
  "metadata": {
    "kernelspec": {
      "display_name": "Python 3",
      "language": "python",
      "name": "python3"
    },
    "language_info": {
      "codemirror_mode": {
        "name": "ipython",
        "version": 3
      },
      "file_extension": ".py",
      "mimetype": "text/x-python",
      "name": "python",
      "nbconvert_exporter": "python",
      "version": "3.8.10"
    },
    "colab": {
      "provenance": [],
      "include_colab_link": true
    }
  },
  "nbformat": 4,
  "nbformat_minor": 5
}